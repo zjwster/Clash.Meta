{
  "nbformat": 4,
  "nbformat_minor": 0,
  "metadata": {
    "colab": {
      "provenance": [],
      "mount_file_id": "1xZrZw9M_U_h2DzYv66xF6jcFyUQWAgMW",
      "authorship_tag": "ABX9TyMKAbGO5oJL9D+O0rTuKV6m",
      "include_colab_link": true
    },
    "kernelspec": {
      "name": "python3",
      "display_name": "Python 3"
    },
    "language_info": {
      "name": "python"
    }
  },
  "cells": [
    {
      "cell_type": "markdown",
      "metadata": {
        "id": "view-in-github",
        "colab_type": "text"
      },
      "source": [
        "<a href=\"https://colab.research.google.com/github/zjwster/Clash.Meta/blob/Meta/%E2%80%9C%E8%82%A1%E7%A5%A803240924_ipynb%E2%80%9D%E7%9A%84%E5%89%AF%E6%9C%AC.ipynb\" target=\"_parent\"><img src=\"https://colab.research.google.com/assets/colab-badge.svg\" alt=\"Open In Colab\"/></a>"
      ]
    },
    {
      "cell_type": "code",
      "source": [
        "!pip install ta\n",
        "#!pip install yfinance\n",
        "!pip install matplotlib\n",
        "#!pip install datetime\n",
        "!pip install tushare\n",
        "!pip install pinyin\n",
        "#!pip install mpl_finance\n",
        "!pip install requests\n",
        "!pip install io"
      ],
      "metadata": {
        "id": "AqsFmOszJM--"
      },
      "execution_count": null,
      "outputs": []
    },
    {
      "cell_type": "code",
      "source": [
        "import ta\n",
        "import tushare as ts\n",
        "import pinyin\n",
        "import matplotlib.pyplot as plt\n",
        "import requests\n",
        "import io\n",
        "\n",
        "# 填写您的 Rocket.Chat 服务器地址和用户凭证\n",
        "rocketchat_url = 'https://icenter.tech'\n",
        "rocketchat_user_id = 'GebgaWx7PBTF3aa6n'\n",
        "rocketchat_auth_token = 'QRJpOkLDplm3NQ_EP83lqiCjLTmMVi21OsBClnzIhzn'\n",
        "\n",
        "ts.set_token('062244397b854ccce9496ffcc980dc7ab68b4e480981ba7fd7146117')\n",
        "names = {'300738': 'aofeishuju', '603881': 'shujugang', '300520': 'kedaguochuang', '600036': 'zhaoshangyinhang', '002916': 'shennandianlu'}\n",
        "\n",
        "for code, name in names.items():\n",
        "    # 获取股票数据\n",
        "    df = ts.get_k_data(code, start='2023-01-01')\n",
        "\n",
        "    # 计算布林带指标\n",
        "    bb = ta.volatility.BollingerBands(df['close'])\n",
        "    df['BB_upper'] = bb.bollinger_hband()\n",
        "    df['BB_middle'] = bb.bollinger_mavg()\n",
        "    df['BB_lower'] = bb.bollinger_lband()\n",
        "\n",
        "    # 计算趋势线\n",
        "    trendline_x = [0, len(df)]\n",
        "    trendline_y = [df['close'][0], df['close'][len(df) - 1]]\n",
        "\n",
        "    # 计算支撑/阻力线\n",
        "    resistance_x = [0, len(df)]\n",
        "    resistance_y = [df['close'].max(), df['close'].max()]\n",
        "    support_x = [0, len(df)]\n",
        "    support_y = [df['close'].min(), df['close'].min()]\n",
        "\n",
        "    # 计算相对强弱指数\n",
        "    rsi = ta.momentum.RSIIndicator(df['close'])\n",
        "    df['RSI'] = rsi.rsi()\n",
        "\n",
        "    # 将股票名称转换为拼音\n",
        "    name_pinyin = pinyin.get(name, format='strip', delimiter='')\n",
        "\n",
        "    # 绘制布林带图、趋势线、支撑/阻力线和相对强弱指数\n",
        "    fig, (ax1, ax2) = plt.subplots(2, 1, figsize=(15, 10))\n",
        "    ax1.plot(df['close'])\n",
        "    ax1.plot(df['BB_upper'], label='Upper Band')\n",
        "    ax1.plot(df['BB_middle'], label='Middle Band')\n",
        "    ax1.plot(df['BB_lower'], label='Lower Band')\n",
        "    ax1.plot(trendline_x, trendline_y, label='Trendline')\n",
        "    ax1.plot(resistance_x, resistance_y, label='Resistance')\n",
        "    ax1.plot(support_x, support_y, label='Support')\n",
        "    ax1.legend(loc='upper left')\n",
        "    ax1.set_title(f'{name} ({code}) Bollinger Bands')\n",
        "    ax2.plot(df['RSI'])\n",
        "    ax2.set_title(f'{name} ({code}) RSI')\n",
        "    ax2.axhline(y=30, color='r', linestyle='--')\n",
        "    ax2.axhline(y=70, color='r', linestyle='--')\n",
        "    plt.savefig(f'/content/drive/MyDrive/stock_chart/{name_pinyin}_{code}.png')\n",
        "\n",
        "    # 将生成的图片上传到 Rocket.Chat\n",
        "    with open(f'{name_pinyin}_{code}.png', 'rb') as f:\n",
        "        data = io.BytesIO(f.read())\n",
        "    response = requests.post(\n",
        "        rocketchat_url + '/api/v1/rooms.upload/' + rocketchat_user_id,\n",
        "        #rocketchat_url + '/api/v1/rooms.upload',\n",
        "        # 'https://icenter.tech/api/v1/upload',\n",
        "        # 'https://icenter.tech/api/v1/chat.postMessage',\n",
        "        headers={\n",
        "            'X-Auth-Token': rocketchat_auth_token,\n",
        "            'X-User-Id': rocketchat_user_id\n",
        "        },\n",
        "        files={\n",
        "            'file': ('chart.png', data, 'image/png')\n",
        "        },\n",
        "        data={\n",
        "            'channel': '@zjwster',\n",
        "            'text': 'chart',\n",
        "            'emoji': ':dog:',\n",
        "            'alias': '小助理',\n",
        "        }\n",
        "    )\n",
        "    # print(response.json())\n",
        "    # 检查响应状态码\n",
        "    if response.status_code == 200:\n",
        "        print(\"图片已成功发送到 RocketChat 频道！\")\n",
        "    else:\n",
        "        print(\"发送图片时出错。错误代码：\", response.status_code)"
      ],
      "metadata": {
        "id": "XwmD0-KUp1vZ"
      },
      "execution_count": null,
      "outputs": []
    }
  ]
}